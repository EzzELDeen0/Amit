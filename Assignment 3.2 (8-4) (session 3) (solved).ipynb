{
 "cells": [
  {
   "cell_type": "code",
   "execution_count": 5,
   "id": "adf83200",
   "metadata": {},
   "outputs": [
    {
     "name": "stdout",
     "output_type": "stream",
     "text": [
      "[1, 2, 3, 4]\n"
     ]
    }
   ],
   "source": [
    "# 1) Write a Python program to add an item to a tuple.\n",
    "tup1=(1,2,3)\n",
    "temptup=list(tup1)\n",
    "temptup.append(4)\n",
    "print(temptup)"
   ]
  },
  {
   "cell_type": "code",
   "execution_count": 7,
   "id": "44dc86d3",
   "metadata": {},
   "outputs": [
    {
     "name": "stdout",
     "output_type": "stream",
     "text": [
      "10\n"
     ]
    }
   ],
   "source": [
    "#2. Write a Python program to sum all the items in a list.\n",
    "list1=[1,2,3,4]\n",
    "print(sum(list1))"
   ]
  },
  {
   "cell_type": "code",
   "execution_count": 41,
   "id": "09ed4c6e",
   "metadata": {
    "scrolled": true
   },
   "outputs": [
    {
     "name": "stdout",
     "output_type": "stream",
     "text": [
      "24\n"
     ]
    }
   ],
   "source": [
    "#3. Write a Python program to multiply all the items in a list. \n",
    "list2=[1,2,3,4] \n",
    "multi= 1\n",
    "for x in list2:\n",
    "    multi*=x\n",
    "\n",
    "print(multi)\n",
    "\n"
   ]
  },
  {
   "cell_type": "code",
   "execution_count": 43,
   "id": "288b7ff7",
   "metadata": {},
   "outputs": [
    {
     "name": "stdout",
     "output_type": "stream",
     "text": [
      "1\n"
     ]
    }
   ],
   "source": [
    "#4. Write a Python program to get the smallest number from a list. \n",
    "list3=[5,7,3,9,1]\n",
    "list3.sort()\n",
    "print(list3[0])"
   ]
  },
  {
   "cell_type": "code",
   "execution_count": 44,
   "id": "b4fd7147",
   "metadata": {},
   "outputs": [
    {
     "name": "stdout",
     "output_type": "stream",
     "text": [
      "32\n"
     ]
    }
   ],
   "source": [
    "#5. Write a Python program to get the largest number from a list. \n",
    "list4=[5,7,32,2,1]\n",
    "list4.sort()\n",
    "print(list4[-1])"
   ]
  },
  {
   "cell_type": "code",
   "execution_count": 45,
   "id": "e1cf2633",
   "metadata": {},
   "outputs": [
    {
     "name": "stdout",
     "output_type": "stream",
     "text": [
      "number of the strings in this list is:  3\n"
     ]
    }
   ],
   "source": [
    "#6. Write a Python program to count the number of strings from a given list of strings.\n",
    "list5=[\"hello\",\"my\",\"there\"]\n",
    "print(\"number of the strings in this list is: \",len(list5))\n"
   ]
  },
  {
   "cell_type": "code",
   "execution_count": 59,
   "id": "2013b6d3",
   "metadata": {},
   "outputs": [
    {
     "name": "stdout",
     "output_type": "stream",
     "text": [
      "[1, 2, 3, 4]\n",
      "[1, 2, 3, 4]\n",
      "[1, 2, 3, 4, 5]\n",
      "[1, 2, 3, 4]\n"
     ]
    }
   ],
   "source": [
    "#7. Write a Python program to clone or copy a list \n",
    "list6=[1,2,3,4]\n",
    "list7=list6.copy()\n",
    "print(list6)\n",
    "print(list7)\n",
    "list6.append(5)\n",
    "#after appending\n",
    "print(list6)\n",
    "print(list7)\n",
    "\n",
    "\n"
   ]
  },
  {
   "cell_type": "code",
   "execution_count": 61,
   "id": "94d78ad5",
   "metadata": {},
   "outputs": [
    {
     "name": "stdout",
     "output_type": "stream",
     "text": [
      "{1, 3}\n"
     ]
    }
   ],
   "source": [
    "#8. Write a Python program to remove item(s) from a given set. \n",
    "set1={1,2,3}\n",
    "set1.remove(2)\n",
    "print(set1)"
   ]
  },
  {
   "cell_type": "code",
   "execution_count": 73,
   "id": "ef2f9973",
   "metadata": {},
   "outputs": [
    {
     "name": "stdout",
     "output_type": "stream",
     "text": [
      "set3 is subset of set2\n"
     ]
    }
   ],
   "source": [
    "#9.Write a Python program to check if a set is a subset of another set.\n",
    "set2={1,2,3,4,5,6}\n",
    "set3={1,2,3,4}\n",
    "if set3 <= set2:\n",
    "    print(\"set3 is subset of set2\")\n",
    "else:\n",
    "    print(\"it's not \")\n",
    "    \n",
    "    '''\n",
    "    another way of solivng\n",
    "    \n",
    "if set3.issubset(set2):\n",
    "    print(\"set3 is subset of set2\")\n",
    "else:\n",
    "    print(\"it's not \")\n",
    "    \n",
    "    \n",
    "    actually i searched for both solution found that the first one means that every element in set3 is located in set2 \n",
    "    or not all of them it doesn't mean it's larger or smaller as it used to mean with numbers the expression \n",
    "    \"a<=b\" with sets means that a is subset of b\n",
    "    '''"
   ]
  },
  {
   "cell_type": "code",
   "execution_count": 76,
   "id": "5fbf338d",
   "metadata": {},
   "outputs": [
    {
     "name": "stdout",
     "output_type": "stream",
     "text": [
      "set()\n"
     ]
    }
   ],
   "source": [
    "#10. Write a Python program to remove all elements from a given set. \n",
    "\n",
    "set4={1,2,3,4,5}\n",
    "set4.clear()\n",
    "print(set4)"
   ]
  },
  {
   "cell_type": "code",
   "execution_count": 79,
   "id": "c780d9de",
   "metadata": {},
   "outputs": [
    {
     "name": "stdout",
     "output_type": "stream",
     "text": [
      "5\n",
      "1\n"
     ]
    }
   ],
   "source": [
    "#11. Write a Python program to find the maximum and minimum values in a set.\n",
    "set5={1,2,3,4,5}\n",
    "print(max(set5))\n",
    "print(min(set5))"
   ]
  },
  {
   "cell_type": "code",
   "execution_count": 83,
   "id": "85d64bf3",
   "metadata": {},
   "outputs": [
    {
     "name": "stdout",
     "output_type": "stream",
     "text": [
      "3\n"
     ]
    }
   ],
   "source": [
    "#12. Write a Python program to find the index of an item in a tuple.\n",
    "tup2=(1,2,3,4,5)\n",
    "temptup=list(tup2)\n",
    "print(temptup.index(4))"
   ]
  },
  {
   "cell_type": "code",
   "execution_count": 90,
   "id": "ba0fa93f",
   "metadata": {},
   "outputs": [
    {
     "name": "stdout",
     "output_type": "stream",
     "text": [
      "{1: 'hello', 2: 'my', 3: 'book'}\n"
     ]
    }
   ],
   "source": [
    "#13. Write a Python program to convert a tuple to a dictionary. \n",
    "tup3=((1,\"hello\"),(2,\"my\"),(3,\"book\"))\n",
    "detup=dict(tup3)\n",
    "print(detup)"
   ]
  },
  {
   "cell_type": "code",
   "execution_count": 120,
   "id": "403c2b05",
   "metadata": {},
   "outputs": [
    {
     "name": "stdout",
     "output_type": "stream",
     "text": [
      "[(5, 4, 8)]\n",
      "[(5, 4, 8)]\n",
      "[(5, 4, 8)]\n"
     ]
    }
   ],
   "source": [
    "#14. Write a Python program to unzip a list of tuples into individual lists. \n",
    "lisoftub=[(1,2),(2,1,3),(5,4,8)]\n",
    "list1=[]\n",
    "list2=[]\n",
    "list3=[]\n",
    "list1.append(lisoftub[i])\n",
    "list2.append(lisoftub[i])\n",
    "\n",
    "list3.append(lisoftub[i])\n",
    "\n",
    "print(list1)\n",
    "print(list2)\n",
    "print(list3)\n"
   ]
  },
  {
   "cell_type": "code",
   "execution_count": 122,
   "id": "da52d92e",
   "metadata": {},
   "outputs": [
    {
     "name": "stdout",
     "output_type": "stream",
     "text": [
      "[3, 2, 1]\n"
     ]
    }
   ],
   "source": [
    "#15. Write a Python program to reverse a tuple.\n",
    "tup3=(1,2,3)\n",
    "temp=list(tup3)\n",
    "print(temp[::-1])"
   ]
  },
  {
   "cell_type": "code",
   "execution_count": 124,
   "id": "2e4dae8a",
   "metadata": {},
   "outputs": [
    {
     "name": "stdout",
     "output_type": "stream",
     "text": [
      "{1: 'hi', 2: 'hello', 3: 'there'}\n"
     ]
    }
   ],
   "source": [
    "#16. Write a Python program to convert a list of tuples into a dictionary. \n",
    "\n",
    "tubli=[(1,\"hi\"),(2,\"hello\"),(3,\"there\")]\n",
    "temp=dict(tubli)\n",
    "print(temp)"
   ]
  },
  {
   "cell_type": "code",
   "execution_count": 134,
   "id": "9fa19ca5",
   "metadata": {},
   "outputs": [
    {
     "name": "stdout",
     "output_type": "stream",
     "text": [
      "[10, 20, 100]\n",
      "[40, 50, 100]\n",
      "[70, 80, 100]\n"
     ]
    }
   ],
   "source": [
    "#17. Write a Python program to replace the last value of tuples in a list. \n",
    "#Sample list: [(10, 20, 40), (40, 50, 60), (70, 80, 90)] \n",
    "#Expected Output: [(10, 20, 100), (40, 50, 100), (70, 80, 100)]\n",
    "\n",
    "list0= [(10, 20, 40), (40, 50, 60), (70, 80, 90)] \n",
    "for i in list0:\n",
    "    temp=list(i)\n",
    "    temp[-1]=100\n",
    "    print(temp)\n"
   ]
  },
  {
   "cell_type": "code",
   "execution_count": 138,
   "id": "ba2ccc61",
   "metadata": {},
   "outputs": [
    {
     "name": "stdout",
     "output_type": "stream",
     "text": [
      "[1.5, 1.8, 4, 5]\n"
     ]
    }
   ],
   "source": [
    "#18.  Write a Python program to sort a tuple by its float element.\n",
    "tuble23=(5,1.5,1.8,4)\n",
    "temp=list(tuble23)\n",
    "temp.sort()\n",
    "print(temp)"
   ]
  },
  {
   "cell_type": "code",
   "execution_count": null,
   "id": "03727cc3",
   "metadata": {},
   "outputs": [],
   "source": []
  }
 ],
 "metadata": {
  "kernelspec": {
   "display_name": "Python 3 (ipykernel)",
   "language": "python",
   "name": "python3"
  },
  "language_info": {
   "codemirror_mode": {
    "name": "ipython",
    "version": 3
   },
   "file_extension": ".py",
   "mimetype": "text/x-python",
   "name": "python",
   "nbconvert_exporter": "python",
   "pygments_lexer": "ipython3",
   "version": "3.11.5"
  }
 },
 "nbformat": 4,
 "nbformat_minor": 5
}
