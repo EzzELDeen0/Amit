{
 "cells": [
  {
   "cell_type": "code",
   "execution_count": 1,
   "id": "f3ac32ca",
   "metadata": {},
   "outputs": [
    {
     "name": "stdout",
     "output_type": "stream",
     "text": [
      "<class 'int'>\n",
      "<class 'str'>\n",
      "<class 'float'>\n",
      "<class 'list'>\n",
      "<class 'tuple'>\n",
      "<class 'dict'>\n",
      "<class 'bool'>\n"
     ]
    }
   ],
   "source": [
    "'''\n",
    "Exercise on data types\n",
    "What data type would that be?\n",
    "'''\n",
    "\n",
    "x = 5\n",
    "#<class 'int'>\n",
    "print(type(x))\n",
    "\n",
    "x = \"Hello World\"\n",
    "#<class 'str'>\n",
    "print(type(x))\n",
    "\n",
    "x = 20.5\n",
    "#<class 'float'>\n",
    "print(type(x))\n",
    "\n",
    "x = [\"apple\", \"banana\", \"cherry\"]\n",
    "#<class 'list'>\n",
    "print(type(x))\n",
    "\n",
    "x = (\"apple\", \"banana\", \"cherry\")\n",
    "#<class 'tuple'>\n",
    "print(type(x))\n",
    "\n",
    "x = {\"name\" : \"John\", \"age\" : 36}\n",
    "#<class 'dict'>\n",
    "\n",
    "print(type(x))\n",
    "\n",
    "x = True\n",
    "#<class 'bool'>\n",
    "print(type(x))\n"
   ]
  },
  {
   "cell_type": "code",
   "execution_count": 9,
   "id": "4496d600",
   "metadata": {},
   "outputs": [],
   "source": [
    "#next"
   ]
  },
  {
   "cell_type": "code",
   "execution_count": 14,
   "id": "0415e289",
   "metadata": {},
   "outputs": [],
   "source": [
    "#-----------"
   ]
  },
  {
   "cell_type": "code",
   "execution_count": 1,
   "id": "f4c59519",
   "metadata": {},
   "outputs": [
    {
     "name": "stdout",
     "output_type": "stream",
     "text": [
      "20.0\n"
     ]
    }
   ],
   "source": [
    "# x = 5\n",
    "# x =....(x)\n",
    "# print(x)\n",
    "\n",
    "x=20\n",
    "print(float(x))\n",
    " \n",
    " "
   ]
  },
  {
   "cell_type": "code",
   "execution_count": 23,
   "id": "03c2178b",
   "metadata": {},
   "outputs": [
    {
     "name": "stdout",
     "output_type": "stream",
     "text": [
      "5\n"
     ]
    }
   ],
   "source": [
    "#Insert the correct syntax to convert x into a integer.\n",
    "# x = 5.5\n",
    "# x =......(x)\n",
    "# print(x)\n",
    "\n",
    "\n",
    "x=int(5.5)\n",
    "print(x)"
   ]
  },
  {
   "cell_type": "code",
   "execution_count": 25,
   "id": "290145c8",
   "metadata": {},
   "outputs": [
    {
     "name": "stdout",
     "output_type": "stream",
     "text": [
      "11\n"
     ]
    }
   ],
   "source": [
    "'''\n",
    "Exercise on string\n",
    "Use the len() function to print the length of the string.\n",
    "'''\n",
    "\n",
    "# x = \"Hello World\"\n",
    "# print(.........)\n",
    "\n",
    "x=\"hello world\"\n",
    "print(len(x))"
   ]
  },
  {
   "cell_type": "code",
   "execution_count": 26,
   "id": "01fe32f3",
   "metadata": {},
   "outputs": [
    {
     "name": "stdout",
     "output_type": "stream",
     "text": [
      "H\n"
     ]
    }
   ],
   "source": [
    "'''\n",
    "Get the first character of the string txt.\n",
    "# txt = \"Hello World\"\n",
    "# x = ..........\n",
    "'''\n",
    "txt=\"Hello World\"\n",
    "x=txt[0]\n",
    "print(x)"
   ]
  },
  {
   "cell_type": "code",
   "execution_count": 31,
   "id": "c3a85991",
   "metadata": {},
   "outputs": [
    {
     "name": "stdout",
     "output_type": "stream",
     "text": [
      "llo\n"
     ]
    }
   ],
   "source": [
    "'''\n",
    "Get the characters from index 2 to index 4 (llo).\n",
    "# txt = \"Hello World\"\n",
    "#  x =........\n",
    "'''\n",
    "txt = \"Hello World\"\n",
    "print(txt[2:5:1])\n",
    "    \n"
   ]
  },
  {
   "cell_type": "code",
   "execution_count": 40,
   "id": "d6d193db",
   "metadata": {},
   "outputs": [
    {
     "name": "stdout",
     "output_type": "stream",
     "text": [
      "Hello World\n"
     ]
    }
   ],
   "source": [
    "'''\n",
    "Return the string without any whitespace at the beginning or the end.\n",
    "hint  txt.strip()\n",
    "# txt = \" Hello World \"\n",
    "# x =..................\n",
    "'''\n",
    "txt = \" Hello World \"\n",
    "x=txt.strip()\n",
    "print(x)"
   ]
  },
  {
   "cell_type": "code",
   "execution_count": 41,
   "id": "afc4d171",
   "metadata": {},
   "outputs": [
    {
     "name": "stdout",
     "output_type": "stream",
     "text": [
      "HELLO WORLD\n"
     ]
    }
   ],
   "source": [
    "#convert text to uppercase\n",
    "# txt = \"Hello World\"\n",
    "# txt = ........\n",
    "\n",
    "\n",
    "txt = \"Hello World\"\n",
    "print(txt.upper())"
   ]
  },
  {
   "cell_type": "code",
   "execution_count": 50,
   "id": "de31ff23",
   "metadata": {},
   "outputs": [
    {
     "name": "stdout",
     "output_type": "stream",
     "text": [
      "Jello World\n"
     ]
    }
   ],
   "source": [
    "#Replace the character H with a J\n",
    "# txt = \"Hello World\"\n",
    "# txt = txt. .......(...,... )\n",
    "\n",
    "txt = \"Hello World\"\n",
    "print(txt.replace(\"H\",\"J\"))"
   ]
  },
  {
   "cell_type": "code",
   "execution_count": 57,
   "id": "a577e185",
   "metadata": {},
   "outputs": [
    {
     "name": "stdout",
     "output_type": "stream",
     "text": [
      "My name is John, and I am 36\n"
     ]
    }
   ],
   "source": [
    "#Insert the correct syntax to add a placeholder for the age parameter.\n",
    "# age = 36\n",
    "# txt = f\"My name is John, and I am ......\"\n",
    "# print(txt)\n",
    "\n",
    "age = 36\n",
    "print(f\"My name is John, and I am {age}\")"
   ]
  },
  {
   "cell_type": "code",
   "execution_count": 1,
   "id": "0e861669",
   "metadata": {},
   "outputs": [
    {
     "name": "stdout",
     "output_type": "stream",
     "text": [
      "True\n"
     ]
    }
   ],
   "source": [
    "'''\n",
    "Exercise on Booleans\n",
    "The statement below would print a Boolean value, which one?\n",
    "\n",
    "# print(10 > 9)\n",
    "# ..............\n",
    "'''\n",
    "print(10 > 9)\n",
    "# ...true..........."
   ]
  },
  {
   "cell_type": "code",
   "execution_count": 3,
   "id": "85f50fde",
   "metadata": {},
   "outputs": [
    {
     "name": "stdout",
     "output_type": "stream",
     "text": [
      "False\n"
     ]
    }
   ],
   "source": [
    "'''\n",
    "The statement below would print a Boolean value, which one?\n",
    "\n",
    "# print(10 == 9)\n",
    "# ............\n",
    "'''\n",
    "print(10 == 9)\n",
    "# .......false....."
   ]
  },
  {
   "cell_type": "code",
   "execution_count": 4,
   "id": "00c64e55",
   "metadata": {},
   "outputs": [
    {
     "name": "stdout",
     "output_type": "stream",
     "text": [
      "False\n"
     ]
    }
   ],
   "source": [
    "'''\n",
    "The statement below would print a Boolean value, which one?\n",
    "\n",
    "# print(10 < 9)\n",
    "# ..........\n",
    "'''\n",
    "print(10 < 9)\n",
    "# .....false....."
   ]
  },
  {
   "cell_type": "code",
   "execution_count": 5,
   "id": "f65bbe24",
   "metadata": {},
   "outputs": [
    {
     "name": "stdout",
     "output_type": "stream",
     "text": [
      "\n",
      "Twinkle, twinkle, little star,\n",
      " \tHow I wonder what you are!\n",
      " \t\tUp above the world so high,\n",
      " \t\tLike a diamond in the sky.\n",
      " Twinkle, twinkle, little star,\n",
      " \tHow I wonder what you are!\n",
      "\n"
     ]
    }
   ],
   "source": [
    "'''\n",
    "Exercise-1\n",
    "Write a Python program to print the following string in a specific format\n",
    "# Twinkle, twinkle, little star,\n",
    "#   How I wonder what you are!\n",
    "#       Up above the world so high,\n",
    "#       Like a diamond in the sky.\n",
    "# Twinkle, twinkle, little star,\n",
    "#   How I wonder what you are!\n",
    "\n",
    "'''\n",
    "print('''\n",
    "Twinkle, twinkle, little star,\n",
    " \tHow I wonder what you are!\n",
    " \t\tUp above the world so high,\n",
    " \t\tLike a diamond in the sky.\n",
    " Twinkle, twinkle, little star,\n",
    " \tHow I wonder what you are!\n",
    "''')"
   ]
  },
  {
   "cell_type": "code",
   "execution_count": 9,
   "id": "4a3b4589",
   "metadata": {},
   "outputs": [
    {
     "name": "stdout",
     "output_type": "stream",
     "text": [
      " first name ezzeldeen\n",
      " lastname ashraf\n",
      "ashraf ezzeldeen\n"
     ]
    }
   ],
   "source": [
    "'''\n",
    "Exercise-2\n",
    "Write a Python program that print the user's first and last name and prints them in reverse order with a space between them.\n",
    "\n",
    "'''\n",
    "a=input(\" first name \")\n",
    "b=input(\" lastname \")\n",
    "print (b,a)"
   ]
  },
  {
   "cell_type": "code",
   "execution_count": 10,
   "id": "04638473",
   "metadata": {},
   "outputs": [
    {
     "name": "stdout",
     "output_type": "stream",
     "text": [
      "3.7994000000000008\n"
     ]
    }
   ],
   "source": [
    "'''\n",
    "Exercise-3\n",
    "Write a Python program that calculates the area of a circle and radius = 1.1\n",
    "\n",
    "'''\n",
    "r=1.1\n",
    "area=3.14 *r**2\n",
    "print(area)"
   ]
  },
  {
   "cell_type": "code",
   "execution_count": 11,
   "id": "bbb80c90",
   "metadata": {},
   "outputs": [
    {
     "name": "stdout",
     "output_type": "stream",
     "text": [
      "py\n"
     ]
    }
   ],
   "source": [
    "'''\n",
    "Exercise-4\n",
    "Write a Python program that accepts a filename from the user and prints the extension of the file.\n",
    "Sample Output: Input the Filename: abc.java\n",
    "The extension of the file is : 'java'\n",
    "\n",
    "\n",
    "'''\n",
    "filename=\"abc.py\"\n",
    "f_exts=filename.split(\".\")\n",
    "print(f_exts[-1])"
   ]
  },
  {
   "cell_type": "code",
   "execution_count": 30,
   "id": "51781720",
   "metadata": {},
   "outputs": [
    {
     "name": "stdout",
     "output_type": "stream",
     "text": [
      "['A', 'm', 'i', 'r']\n",
      "<class 'list'>\n"
     ]
    }
   ],
   "source": [
    "'''\n",
    "\n",
    "Exercise-5\n",
    "Covert from string to list and tuple value =\"Amit\"\n",
    "After that\n",
    "Relace the index 3 in the list\n",
    "Convert the list to string and print the list\n",
    "'''\n",
    "a=\"Amit\"\n",
    "list_1=list(a)\n",
    "list_1[3]=\"r\"\n",
    "print(list_1)\n",
    "str(list_1)\n",
    "print(type(list_1))\n"
   ]
  },
  {
   "cell_type": "code",
   "execution_count": 45,
   "id": "54a54df7",
   "metadata": {},
   "outputs": [
    {
     "name": "stdout",
     "output_type": "stream",
     "text": [
      "Red Black\n"
     ]
    }
   ],
   "source": [
    "'''\n",
    "Exercise-6\n",
    "Write a Python program to display the first and last colors from the following list.\n",
    "color_list = [\"Red\",\"Green\",\"White\" ,\"Black\"]\n",
    "\n",
    "'''\n",
    "color_list = [\"Red\",\"Green\",\"White\" ,\"Black\"]\n",
    "print(color_list.pop(0),color_list.pop(2))\n"
   ]
  },
  {
   "cell_type": "code",
   "execution_count": 46,
   "id": "99a8af32",
   "metadata": {},
   "outputs": [
    {
     "name": "stdout",
     "output_type": "stream",
     "text": [
      "\n",
      "a string that you \"don't\" have to escape\n",
      " This\n",
      " is a  ....... multi-line\n",
      " heredoc string --------> example\n",
      "\n"
     ]
    }
   ],
   "source": [
    "'''\n",
    "Exercise-7\n",
    "Write a Python program to print the following 'here document'.¶\n",
    "#Sample Output:\n",
    "# a string that you \"don't\" have to escape\n",
    "# This\n",
    "# is a  ....... multi-line\n",
    "# heredoc string --------> example\n",
    "'''\n",
    "\n",
    "print('''\n",
    "a string that you \"don't\" have to escape\n",
    " This\n",
    " is a  ....... multi-line\n",
    " heredoc string --------> example\n",
    "''')"
   ]
  },
  {
   "cell_type": "code",
   "execution_count": 48,
   "id": "ed3a7808",
   "metadata": {},
   "outputs": [
    {
     "name": "stdout",
     "output_type": "stream",
     "text": [
      "True\n",
      "True\n"
     ]
    }
   ],
   "source": [
    "'''\n",
    "\n",
    "Exercise- 8\n",
    "I need to check if link https://www.google.com/ strart with https or not and if the  aimt4536@gmail.com end with .com\n",
    "'''\n",
    "link=\"https://www.google.com/\"\n",
    "email=\"aimt4536@gmail.com\"\n",
    "print(link.startswith(\"https\"))\n",
    "print(email.endswith(\".com\"))"
   ]
  },
  {
   "cell_type": "code",
   "execution_count": null,
   "id": "2a77975e",
   "metadata": {},
   "outputs": [],
   "source": []
  }
 ],
 "metadata": {
  "kernelspec": {
   "display_name": "Python 3 (ipykernel)",
   "language": "python",
   "name": "python3"
  },
  "language_info": {
   "codemirror_mode": {
    "name": "ipython",
    "version": 3
   },
   "file_extension": ".py",
   "mimetype": "text/x-python",
   "name": "python",
   "nbconvert_exporter": "python",
   "pygments_lexer": "ipython3",
   "version": "3.11.5"
  }
 },
 "nbformat": 4,
 "nbformat_minor": 5
}
