{
 "cells": [
  {
   "cell_type": "code",
   "execution_count": 4,
   "id": "fc49753d",
   "metadata": {},
   "outputs": [
    {
     "name": "stdout",
     "output_type": "stream",
     "text": [
      "please enter your first number: 6\n",
      "please enter you second number: 8\n",
      "the maximum of the numbers you have entered is: 8\n"
     ]
    }
   ],
   "source": [
    "#1) Write a program to print the maximum between two numbers. (one-line conditional statement)\n",
    "num1=int(input(\"please enter your first number: \"))\n",
    "num2=int(input(\"please enter your second number: \"))\n",
    "maxi=max(num1,num2)\n",
    "print(f\"the maximum of the numbers you have entered is: {maxi}\")\n"
   ]
  },
  {
   "cell_type": "code",
   "execution_count": 6,
   "id": "71aeb74a",
   "metadata": {},
   "outputs": [
    {
     "name": "stdout",
     "output_type": "stream",
     "text": [
      "please enter your first number: 5\n",
      "please enter your second number: 4\n",
      "please enter your third number: 1\n",
      "the maximum of the numbers you have entered is: 5\n"
     ]
    }
   ],
   "source": [
    "#2) Write a program to find the maximum between three numbers.\n",
    "num1=int(input(\"please enter your first number: \"))\n",
    "num2=int(input(\"please enter your second number: \"))\n",
    "num3=int(input(\"please enter your third number: \"))\n",
    "maxi=max(num1,num2)\n",
    "maxi2=max(num3,maxi)\n",
    "print(f\"the maximum of the numbers you have entered is: {maxi2}\")\n"
   ]
  },
  {
   "cell_type": "code",
   "execution_count": 35,
   "id": "6f7c159c",
   "metadata": {},
   "outputs": [
    {
     "name": "stdout",
     "output_type": "stream",
     "text": [
      "please enter a number: 3.4\n",
      "the numbber you have entered is postive\n"
     ]
    }
   ],
   "source": [
    "#3) Write a program to check whether a number is negative, or positive\n",
    "num=float(input(\"please enter a number: \"))\n",
    "if num>0:\n",
    "    print(\"the numbber you have entered is postive\")\n",
    "elif num<0:\n",
    "    print(\"the number you have entered is negative\")\n",
    "elif num==0:\n",
    "    print(\"you have entered zero which is not a positive nor a negative number\")"
   ]
  },
  {
   "cell_type": "code",
   "execution_count": 30,
   "id": "1a07bd45",
   "metadata": {},
   "outputs": [
    {
     "name": "stdout",
     "output_type": "stream",
     "text": [
      "please enter a number: 4\n",
      "the numbber you have entered is even\n"
     ]
    }
   ],
   "source": [
    "#4) Write a program to check whether a number is even or odd\n",
    "num=int(input(\"please enter a number: \"))\n",
    "if num%2==0:\n",
    "    print(\"the numbber you have entered is even\")\n",
    "else:\n",
    "    print(\"the number you have entered is odd\")"
   ]
  },
  {
   "cell_type": "code",
   "execution_count": 38,
   "id": "ddd15241",
   "metadata": {},
   "outputs": [
    {
     "name": "stdout",
     "output_type": "stream",
     "text": [
      "enter a number from 1-7: 1\n",
      "Saturday\n"
     ]
    }
   ],
   "source": [
    "#5) Write a program to store the weekdays in a list and access the week day and print it by index.\n",
    "weekdays=[\"Saturday\",\"Sunday\",\"Monday\",\"Tuesday\",\"Wednesday\",\"Thursday\",\"Friday\"]\n",
    "day=int(input(\"enter a number from 1-7: \"))\n",
    "print(weekdays[day-1])"
   ]
  },
  {
   "cell_type": "code",
   "execution_count": 39,
   "id": "cbc147f2",
   "metadata": {},
   "outputs": [
    {
     "name": "stdout",
     "output_type": "stream",
     "text": [
      "[7, 6, 5, 4, 3, 2, 1]\n"
     ]
    }
   ],
   "source": [
    "#6)Write a program to store numbers in the List and print its reverse\n",
    "numbers=[1,2,3,4,5,6,7]\n",
    "numbers.reverse()\n",
    "print(numbers)"
   ]
  },
  {
   "cell_type": "code",
   "execution_count": 50,
   "id": "4dd334f5",
   "metadata": {},
   "outputs": [
    {
     "name": "stdout",
     "output_type": "stream",
     "text": [
      "enter a number: 2\n",
      "\n",
      "the multiplication table for your number is :\n",
      "0 x 2 = 0\n",
      "1 x 2 = 2\n",
      "2 x 2 = 4\n",
      "3 x 2 = 6\n",
      "4 x 2 = 8\n",
      "5 x 2 = 10\n",
      "6 x 2 = 12\n",
      "7 x 2 = 14\n",
      "8 x 2 = 16\n",
      "9 x 2 = 18\n",
      "\n",
      "\n"
     ]
    }
   ],
   "source": [
    "#7) Write a program to print the multiplcation table of any number\n",
    "'''\n",
    "for lower complexity and for more clean code: \n",
    "\n",
    "numbs=[0,1,2,3,4,5,6,7,8,9]\n",
    "num=int(input(\"enter your number: \"))\n",
    "for i in numbs:\n",
    "    multi=i*num\n",
    "    print(f\"{i} * {num}=\",multi)\n",
    "\n",
    "\n",
    "\n",
    "'''\n",
    "#here antoher simple solution but with more execution steps\n",
    "num=int(input(\"enter a number: \"))\n",
    "print(f'''\n",
    "the multiplication table for your number is :\n",
    "0 x {num} = {0*num}\n",
    "1 x {num} = {1*num}\n",
    "2 x {num} = {2*num}\n",
    "3 x {num} = {3*num}\n",
    "4 x {num} = {4*num}\n",
    "5 x {num} = {5*num}\n",
    "6 x {num} = {6*num}\n",
    "7 x {num} = {7*num}\n",
    "8 x {num} = {8*num}\n",
    "9 x {num} = {9*num}\n",
    "\n",
    "''')"
   ]
  },
  {
   "cell_type": "code",
   "execution_count": 60,
   "id": "f2776a8b",
   "metadata": {},
   "outputs": [
    {
     "name": "stdout",
     "output_type": "stream",
     "text": [
      "2\n",
      "4\n",
      "6\n",
      "8\n",
      "10\n",
      "12\n",
      "14\n",
      "16\n",
      "18\n",
      "20\n",
      "22\n",
      "24\n",
      "26\n",
      "28\n",
      "30\n",
      "32\n",
      "34\n",
      "36\n",
      "38\n",
      "40\n",
      "42\n",
      "44\n",
      "46\n",
      "48\n",
      "50\n",
      "52\n",
      "54\n",
      "56\n",
      "58\n",
      "60\n",
      "62\n",
      "64\n",
      "66\n",
      "68\n",
      "70\n",
      "72\n",
      "74\n",
      "76\n",
      "78\n",
      "80\n",
      "82\n",
      "84\n",
      "86\n",
      "88\n",
      "90\n",
      "92\n",
      "94\n",
      "96\n",
      "98\n",
      "100\n"
     ]
    }
   ],
   "source": [
    "#8) Write a program to print all even numbers between 1 to 100.(using while loop and for loop)\n",
    "#using for loop\n",
    "for x in range(1,101):\n",
    "    if x%2==0:\n",
    "        print(x)\n",
    "  "
   ]
  },
  {
   "cell_type": "code",
   "execution_count": 87,
   "id": "6069a1a1",
   "metadata": {},
   "outputs": [
    {
     "name": "stdout",
     "output_type": "stream",
     "text": [
      "100\n",
      "98\n",
      "96\n",
      "94\n",
      "92\n",
      "90\n",
      "88\n",
      "86\n",
      "84\n",
      "82\n",
      "80\n",
      "78\n",
      "76\n",
      "74\n",
      "72\n",
      "70\n",
      "68\n",
      "66\n",
      "64\n",
      "62\n",
      "60\n",
      "58\n",
      "56\n",
      "54\n",
      "52\n",
      "50\n",
      "48\n",
      "46\n",
      "44\n",
      "42\n",
      "40\n",
      "38\n",
      "36\n",
      "34\n",
      "32\n",
      "30\n",
      "28\n",
      "26\n",
      "24\n",
      "22\n",
      "20\n",
      "18\n",
      "16\n",
      "14\n",
      "12\n",
      "10\n",
      "8\n",
      "6\n",
      "4\n",
      "2\n"
     ]
    }
   ],
   "source": [
    "#using while loop\n",
    "x = 100\n",
    "while x >= 1:\n",
    "    if x % 2 == 0:\n",
    "        print(x)\n",
    "    x = x - 1\n",
    "        "
   ]
  },
  {
   "cell_type": "code",
   "execution_count": null,
   "id": "d7ae4b7f",
   "metadata": {},
   "outputs": [],
   "source": []
  }
 ],
 "metadata": {
  "kernelspec": {
   "display_name": "Python 3 (ipykernel)",
   "language": "python",
   "name": "python3"
  },
  "language_info": {
   "codemirror_mode": {
    "name": "ipython",
    "version": 3
   },
   "file_extension": ".py",
   "mimetype": "text/x-python",
   "name": "python",
   "nbconvert_exporter": "python",
   "pygments_lexer": "ipython3",
   "version": "3.11.5"
  }
 },
 "nbformat": 4,
 "nbformat_minor": 5
}
