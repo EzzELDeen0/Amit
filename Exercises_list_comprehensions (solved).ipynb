{
 "cells": [
  {
   "cell_type": "code",
   "execution_count": 1,
   "id": "1f472a05",
   "metadata": {},
   "outputs": [],
   "source": [
    "\n",
    "#Markdown\n",
    "#Exercise:\n",
    "#You have a list of strings that contain messy text data. Your task is to clean the text by performing the following operations using list comprehensions:\n",
    "#1)Remove leading and trailing whitespace from each string.\n",
    "#2)Convert all characters to lowercase.\n",
    "#3)Remove any non-alphanumeric characters (except spaces).\n",
    "#4)Replace multiple spaces with a single space."
   ]
  },
  {
   "cell_type": "code",
   "execution_count": 57,
   "id": "c530fc52",
   "metadata": {},
   "outputs": [
    {
     "name": "stdout",
     "output_type": "stream",
     "text": [
      "['Hello, World!', 'Python   is Great.', 'Data-Science? Is Amazing!!', 'Clean    Your  DATA!!!']\n",
      "['hello, world!', 'python   is great.', 'data-science? is amazing!!', 'clean    your  data!!!']\n",
      "['hello world', 'python   is great', 'datascience is amazing', 'clean    your  data']\n",
      "['hello world', 'python is great', 'datascience is amazing', 'clean your data']\n"
     ]
    }
   ],
   "source": [
    "raw_data = [\n",
    "    \"  Hello, World!   \",\n",
    "    \"Python   is Great.   \",\n",
    "    \"Data-Science? Is Amazing!!  \",\n",
    "    \" Clean    Your  DATA!!!   \"\n",
    "]\n",
    "\n",
    "step1=[i.strip() for i in raw_data]\n",
    "print(step1)\n",
    "step2=[i.lower() for i in step1]\n",
    "print(step2)\n",
    "step3=[\"\".join([char if char.isalnum() or char==\" \" else \"\" for char in s ])for s in step2]\n",
    "print(step3)\n",
    "step4=[' '.join(s.split()) for s in step3]\n",
    "print(step4)"
   ]
  },
  {
   "cell_type": "code",
   "execution_count": null,
   "id": "2fbe4ec1",
   "metadata": {},
   "outputs": [],
   "source": [
    "#Exercise Set: but in a function\n",
    "#You have a list of strings that contain messy text data. Your task is to clean the text by performing the following operations:\n",
    "#1)Remove leading and trailing whitespace from each string.\n",
    "#2)Convert all characters to lowercase.\n",
    "#3)Remove any non-alphanumeric characters (except spaces).\n",
    "#4)Replace multiple spaces with a single space."
   ]
  },
  {
   "cell_type": "code",
   "execution_count": 59,
   "id": "6c83d60e",
   "metadata": {},
   "outputs": [
    {
     "name": "stdout",
     "output_type": "stream",
     "text": [
      "['Hello, World!', 'Python   is Great.', 'Data-Science? Is Amazing!!', 'Clean    Your  DATA!!!']\n",
      "['hello, world!', 'python   is great.', 'data-science? is amazing!!', 'clean    your  data!!!']\n",
      "['hello world', 'python   is great', 'datascience is amazing', 'clean    your  data']\n"
     ]
    },
    {
     "data": {
      "text/plain": [
       "['hello world', 'python is great', 'datascience is amazing', 'clean your data']"
      ]
     },
     "execution_count": 59,
     "metadata": {},
     "output_type": "execute_result"
    }
   ],
   "source": [
    "def cleaned_text(data):\n",
    "    \n",
    "    step1=[i.strip() for i in raw_data]\n",
    "    print(step1)\n",
    "    step2=[i.lower() for i in step1]\n",
    "    print(step2)\n",
    "    step3=[\"\".join([char if char.isalnum() or char==\" \" else \"\" for char in s ])for s in step2]\n",
    "    print(step3)\n",
    "    step4=[' '.join(s.split()) for s in step3]\n",
    "    return step4\n",
    "\n",
    "raw_data = [\n",
    "    \"  Hello, World!   \",\n",
    "    \"Python   is Great.   \",\n",
    "    \"Data-Science? Is Amazing!!  \",\n",
    "    \" Clean    Your  DATA!!!   \"\n",
    "]\n",
    "cleaned_text(data = [\n",
    "    \"  Hello, World!   \",\n",
    "    \"Python   is Great.   \",\n",
    "    \"Data-Science? Is Amazing!!  \",\n",
    "    \" Clean    Your  DATA!!!   \"\n",
    "])"
   ]
  },
  {
   "cell_type": "code",
   "execution_count": 61,
   "id": "c5bd3b52",
   "metadata": {},
   "outputs": [
    {
     "name": "stdout",
     "output_type": "stream",
     "text": [
      "[1, 4, 9, 16, 25]\n"
     ]
    }
   ],
   "source": [
    "'''\n",
    "\n",
    "Exercise 1: Squaring Numbers\n",
    "Input :numbers = [1, 2, 3, 4, 5]\n",
    "Output: squared_numbers = [1, 4, 9, 16, 25]\n",
    "\n",
    "'''\n",
    "list1=[1,2,3,4,5]\n",
    "squared=[i*i for i in list1]\n",
    "print(squared)"
   ]
  },
  {
   "cell_type": "code",
   "execution_count": 62,
   "id": "88d4e34d",
   "metadata": {},
   "outputs": [
    {
     "name": "stdout",
     "output_type": "stream",
     "text": [
      "[2, 4, 6, 8, 10]\n"
     ]
    }
   ],
   "source": [
    "'''\n",
    "Exercise 2: Filtering Even Numbers\n",
    "Task: Given a list of numbers, create a new list containing only the even numbers.\n",
    "Input:\n",
    "numbers = [1, 2, 3, 4, 5, 6, 7, 8, 9, 10]\n",
    "Output:\n",
    "even_numbers = [2, 4, 6, 8, 10]\n",
    "\n",
    "\n",
    "'''\n",
    "numbers=[1,2,3,4,5,6,7,8,9,10]\n",
    "even_numbers=[i for i in numbers if i%2==0]\n",
    "print(even_numbers)\n"
   ]
  },
  {
   "cell_type": "code",
   "execution_count": 91,
   "id": "c4538d3a",
   "metadata": {},
   "outputs": [
    {
     "name": "stdout",
     "output_type": "stream",
     "text": [
      "['A.S.', 'B.J.', 'C.B.']\n"
     ]
    }
   ],
   "source": [
    "'''\n",
    "##Exercise 3: Extracting Initials -Task: Given a list of names, create a new list with the initials of each name.\n",
    "\n",
    "Input:\n",
    "names = [\"Alice Smith\", \"Bob Johnson\", \"Charlie Brown\"]\n",
    "Output:\n",
    "initials = [\"A.S.\", \"B.J.\", \"C.B.\"]\n",
    "\n",
    "'''\n",
    "\n",
    "names = [\"Alice Smith\", \"Bob Johnson\", \"Charlie Brown\"]\n",
    "initials= [f\"{i.split()[0][0]}.{i.split()[1][0]}.\" for i in names]\n",
    "print(initials)"
   ]
  },
  {
   "cell_type": "code",
   "execution_count": 95,
   "id": "487d2f17",
   "metadata": {},
   "outputs": [
    {
     "name": "stdout",
     "output_type": "stream",
     "text": [
      "[0.0, 20.0, 37.77777777777778, 100.0]\n"
     ]
    }
   ],
   "source": [
    "'''\n",
    "\n",
    "Exercise 4: Fahrenheit to Celsius\n",
    "Task: Given a list of temperatures in Fahrenheit, create a new list with the temperatures converted to Celsius.\n",
    "\n",
    "Input: fahrenheit = [32, 68, 100, 212]\n",
    "\n",
    "Output: celsius = [0.0, 20.0, 37.77777777777778, 100.0]\n",
    "\n",
    "'''\n",
    "fahrenheit = [32, 68, 100, 212]\n",
    "celsius=[(i-32)*(5/9) for i in fahrenheit]\n",
    "print(celsius)"
   ]
  },
  {
   "cell_type": "code",
   "execution_count": 97,
   "id": "e7574d83",
   "metadata": {},
   "outputs": [
    {
     "name": "stdout",
     "output_type": "stream",
     "text": [
      "[1, 2, 3, 4, 5, 6, 7, 8, 9]\n"
     ]
    }
   ],
   "source": [
    "'''\n",
    "\n",
    "Exercise 5: Flattening a List of Lists\n",
    "Task: Given a list of lists, create a new flattened list containing all the elements.\n",
    "Input:\n",
    "\n",
    "list_of_lists = [[1, 2, 3], [4, 5], [6, 7, 8, 9]]\n",
    "\n",
    "Output:\n",
    "\n",
    "flattened_list = [1, 2, 3, 4, 5, 6, 7, 8, 9]\n",
    "\n",
    "'''\n",
    "\n",
    "list_of_lists = [[1, 2, 3], [4, 5], [6, 7, 8, 9]]\n",
    "\n",
    "flattened_list=[ x for i in list_of_lists for x in i]\n",
    "print(flattened_list)"
   ]
  },
  {
   "cell_type": "code",
   "execution_count": 100,
   "id": "4265c992",
   "metadata": {},
   "outputs": [
    {
     "name": "stdout",
     "output_type": "stream",
     "text": [
      "['elephant', 'tiger']\n"
     ]
    }
   ],
   "source": [
    "'''\n",
    "\n",
    "Exercise 7: Filtering Words by Length\n",
    "Task: Given a list of words, create a new list containing only the words that are longer than 3 characters.\n",
    "\n",
    "Input: words = [\"cat\", \"elephant\", \"dog\", \"tiger\"]\n",
    "\n",
    "Output: long_words = [\"elephant\", \"tiger\"]\n",
    "\n",
    "'''\n",
    "\n",
    "words = [\"cat\", \"elephant\", \"dog\", \"tiger\"]\n",
    "\n",
    "long_words=[x for x in words if len(x)>3]\n",
    "print(long_words)\n",
    "\n"
   ]
  },
  {
   "cell_type": "code",
   "execution_count": 127,
   "id": "c1b289d9",
   "metadata": {},
   "outputs": [
    {
     "data": {
      "text/plain": [
       "15"
      ]
     },
     "execution_count": 127,
     "metadata": {},
     "output_type": "execute_result"
    }
   ],
   "source": [
    "'''\n",
    "Exercise 8: Sum of a List\n",
    "Task: Write a function sum_list that takes a list of numbers and returns the sum of those numbers.\n",
    "Input: numbers = [1, 2, 3, 4, 5]\n",
    "Output: sum_list(numbers) # Output: 15\n",
    "\n",
    "'''\n",
    "def sum_list(numbers):\n",
    "    sum1=0\n",
    "    for i in numbers:\n",
    "        sum1=sum1+i\n",
    "    return sum1\n",
    "\n",
    "numbers = [1, 2, 3, 4, 5]\n",
    "\n",
    "sum_list(numbers)\n",
    "\n"
   ]
  },
  {
   "cell_type": "code",
   "execution_count": 154,
   "id": "7b1044ca",
   "metadata": {},
   "outputs": [
    {
     "data": {
      "text/plain": [
       "3"
      ]
     },
     "execution_count": 154,
     "metadata": {},
     "output_type": "execute_result"
    }
   ],
   "source": [
    "'''\n",
    "\n",
    "Exercise 9: Count Occurrences\n",
    "Task: Write a function count_occurrences that takes a list and an element, and returns the number of times the element appears in the list.\n",
    "\n",
    "Input: elements = [1, 2, 2, 3, 4, 2, 5] element_to_count = 2\n",
    "\n",
    "Output: count_occurrences(elements, element_to_count) # Output: 3\n",
    "using list comperhension\n",
    "'''\n",
    "def count_occurrences(elements,element_to_count):\n",
    "    x=[i for i in elements if i==element_to_count]\n",
    "    return len(x)\n",
    "\n",
    "elements = [1, 2, 2, 3, 4, 2, 5]\n",
    "element_to_count = 2\n",
    "count_occurrences(elements,element_to_count)"
   ]
  },
  {
   "cell_type": "code",
   "execution_count": 138,
   "id": "8e7c95d6",
   "metadata": {},
   "outputs": [
    {
     "data": {
      "text/plain": [
       "3"
      ]
     },
     "execution_count": 138,
     "metadata": {},
     "output_type": "execute_result"
    }
   ],
   "source": [
    "#another way of solution\n",
    "def count_occurrences(elements,element_to_count):\n",
    "    return elements.count(element_to_count)\n",
    "\n",
    "\n",
    "elements = [1, 2, 2, 3, 4, 2, 5]\n",
    "element_to_count = 2\n",
    "count_occurrences(elements,element_to_count)\n",
    "    \n"
   ]
  },
  {
   "cell_type": "code",
   "execution_count": 192,
   "id": "eea958e4",
   "metadata": {},
   "outputs": [
    {
     "data": {
      "text/plain": [
       "[1, 2, 3, 4, 5]"
      ]
     },
     "execution_count": 192,
     "metadata": {},
     "output_type": "execute_result"
    }
   ],
   "source": [
    "'''\n",
    "\n",
    "Exercise 10: Remove Duplicates\n",
    "Task: Write a function remove_duplicates that takes a list and returns a new list with duplicates removed, preserving the order of the first occurrence of each element.\n",
    "\n",
    "Input: items = [1, 2, 2, 3, 4, 4, 5]\n",
    "\n",
    "Output: remove_duplicates(items) # Output: [1, 2, 3, 4, 5]\n",
    "'''\n",
    "def remove_duplicates(items):\n",
    "    cleaned=[x for i,x in enumerate(items) if i==items.index(x)]\n",
    "    return(cleaned)\n",
    "\n",
    "items = [1, 2, 2, 3, 4, 4, 5]\n",
    "remove_duplicates(items)\n",
    "\n",
    "\n",
    "        \n"
   ]
  },
  {
   "cell_type": "code",
   "execution_count": 190,
   "id": "1b896e03",
   "metadata": {},
   "outputs": [
    {
     "data": {
      "text/plain": [
       "[1, 2, 3, 4, 5]"
      ]
     },
     "execution_count": 190,
     "metadata": {},
     "output_type": "execute_result"
    }
   ],
   "source": [
    "#same way but without list comperhension\n",
    "items = [1, 2, 2, 3, 4, 4, 5]\n",
    "for i, x in enumerate(items):\n",
    "    if i == items.index(x):\n",
    "        print(x)"
   ]
  },
  {
   "cell_type": "code",
   "execution_count": null,
   "id": "ce0b7a33",
   "metadata": {},
   "outputs": [],
   "source": []
  }
 ],
 "metadata": {
  "kernelspec": {
   "display_name": "Python 3 (ipykernel)",
   "language": "python",
   "name": "python3"
  },
  "language_info": {
   "codemirror_mode": {
    "name": "ipython",
    "version": 3
   },
   "file_extension": ".py",
   "mimetype": "text/x-python",
   "name": "python",
   "nbconvert_exporter": "python",
   "pygments_lexer": "ipython3",
   "version": "3.11.5"
  }
 },
 "nbformat": 4,
 "nbformat_minor": 5
}
