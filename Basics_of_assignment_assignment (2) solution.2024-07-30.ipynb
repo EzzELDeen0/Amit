{
 "cells": [
  {
   "cell_type": "code",
   "execution_count": 50,
   "id": "cd5108e7",
   "metadata": {},
   "outputs": [
    {
     "name": "stdout",
     "output_type": "stream",
     "text": [
      "please enter your list: 1,2,3,4\n",
      "['4', '2', '3', '1']\n"
     ]
    }
   ],
   "source": [
    "'''\n",
    "Python program to interchange first and last elements in a list\n",
    "Examples\n",
    "\n",
    "Input : [12, 35, 9, 56, 24]\n",
    "\n",
    "Output : [24, 35, 9, 56, 12]\n",
    "\n",
    "Input : [1, 2, 3]\n",
    "\n",
    "Output : [3, 2, 1]\n",
    "\n",
    "'''\n",
    "\n",
    "'''\n",
    "#if you want to be in integer form here is the code:\n",
    "#use a = [int(x) for x in input().split()] and go on with the same algorithm or try this map func.\n",
    "user_input=input(\"please enter your list: \")\n",
    "user_list=list(map(int,user_input.split(\",\")))\n",
    "\n",
    "\n",
    "num1=user_list[-1]\n",
    "user_list[-1]=user_list[0]\n",
    "user_list[0]=num1\n",
    "print(user_list)\n",
    "\n",
    "'''\n",
    "#normal string form\n",
    "\n",
    "user_input=input(\"please enter your list: \")\n",
    "user_list=list(user_input.split(\",\"))\n",
    "\n",
    "\n",
    "num1=user_list[-1]\n",
    "user_list[-1]=user_list[0]\n",
    "user_list[0]=num1\n",
    "print(user_list)\n",
    "\n"
   ]
  },
  {
   "cell_type": "code",
   "execution_count": 58,
   "id": "c3a92935",
   "metadata": {},
   "outputs": [
    {
     "name": "stdout",
     "output_type": "stream",
     "text": [
      "enter your list separated with \",\": 1,2,3,4,5,6\n",
      "the length of your list is :  6\n"
     ]
    }
   ],
   "source": [
    "'''\n",
    "Find the Length of a List in Python\n",
    "Input: lst = [10,20,30,40]\n",
    "Output: 4\n",
    "Explanation: The output is 4 because thelength of the list is 4.\n",
    "\n",
    "'''\n",
    "a=[int(x) for x in input(\"enter your list separated with \\\",\\\": \").split(\",\")]\n",
    "print(\"the length of your list is : \",len(a))\n",
    "    "
   ]
  },
  {
   "cell_type": "code",
   "execution_count": 68,
   "id": "5fc7aac1",
   "metadata": {},
   "outputs": [
    {
     "name": "stdout",
     "output_type": "stream",
     "text": [
      "enter your list separated with \",\": 10,20,30,40,50\n",
      "[10, 30, 50]\n"
     ]
    }
   ],
   "source": [
    "'''\n",
    "Python | Find elements of a list by indices\n",
    "Input : lst1 = [10, 20, 30, 40, 50]\n",
    "   lst2 = [0, 2, 4]\n",
    "Output : [10, 30, 50]\n",
    "'''\n",
    "\n",
    "list_one=input(\"enter your list separated with \\\",\\\": \")\n",
    "a=[int(x) for x in list_one.split(\",\")]\n",
    "list_two=[a[0],a[2],a[4]]\n",
    "print(list_two)"
   ]
  },
  {
   "cell_type": "code",
   "execution_count": 71,
   "id": "33656d70",
   "metadata": {},
   "outputs": [
    {
     "name": "stdout",
     "output_type": "stream",
     "text": [
      "what do you want to search in the list: geeky\n",
      "true\n"
     ]
    }
   ],
   "source": [
    "'''\n",
    "Python program to find the String in a List\n",
    "Input: l=[1, 1.0, 'have', 'a', 'geeky', 'day']; s='geeky'\n",
    "Output: True\n",
    "Explanation: geeky is present in the input list\n",
    "\n",
    "\n",
    "'''\n",
    "\n",
    "list1=[1, 1.0, 'have', 'a', 'geeky', 'day']\n",
    "s=input(\"what do you want to search in the list: \")\n",
    "if s in list1:\n",
    "    print(\"true\")"
   ]
  },
  {
   "cell_type": "code",
   "execution_count": 76,
   "id": "6fc0cce2",
   "metadata": {},
   "outputs": [
    {
     "name": "stdout",
     "output_type": "stream",
     "text": [
      "1\n"
     ]
    }
   ],
   "source": [
    "'''\n",
    "\n",
    "Ways to find indices of value in list\n",
    "list of animals\n",
    "Animals= [\"cat\", \"dog\", \"tiger\"]\n",
    "searching positiion of dog\n",
    "output is 1\n",
    "'''\n",
    "Animals= [\"cat\", \"dog\", \"tiger\"]\n",
    "index_of_dog=Animals.index(\"dog\")\n",
    "print(index_of_dog)"
   ]
  },
  {
   "cell_type": "code",
   "execution_count": 94,
   "id": "04c29719",
   "metadata": {},
   "outputs": [
    {
     "name": "stdout",
     "output_type": "stream",
     "text": [
      "2\n",
      "Dog\n"
     ]
    }
   ],
   "source": [
    "'''\n",
    "Find most frequent element in a list\n",
    "Input : [2, 1, 2, 2, 1, 3]\n",
    "\n",
    "Output : 2\n",
    "\n",
    "Input : ['Dog', 'Cat', 'Dog']\n",
    "\n",
    "Output : Dog\n",
    "\n",
    "'''\n",
    "listone=[2, 1, 2, 2, 1, 3]\n",
    "listtwo=['Dog', 'Cat', 'Dog']\n",
    "output=max(set(listone),key=listone.count)\n",
    "output2=max(set(listtwo),key=listtwo.count)\n",
    "print(output)\n",
    "print(output2)\n"
   ]
  },
  {
   "cell_type": "code",
   "execution_count": 97,
   "id": "08bc6108",
   "metadata": {},
   "outputs": [
    {
     "name": "stdout",
     "output_type": "stream",
     "text": [
      "['Rose', ' Lily', 'Lotus', 'Sunflower']\n"
     ]
    }
   ],
   "source": [
    "'''\n",
    "Remove an Item from the List in Python.\n",
    "Input: ['Rose',' Lily', 'Lotus', 'Sun', 'Sunflower']\n",
    "Delete: 'Sun'\n",
    "Output: ['Rose',' Lily', 'Lotus', 'Sunflower']\n",
    "Explanation: In this, we have removed the 'Sun' element from the given list\n",
    "\n",
    "'''\n",
    "listone= ['Rose',' Lily', 'Lotus', 'Sun', 'Sunflower']\n",
    "listone.remove('Sun')\n",
    "print(listone)"
   ]
  },
  {
   "cell_type": "code",
   "execution_count": 107,
   "id": "1e062d86",
   "metadata": {},
   "outputs": [
    {
     "name": "stdout",
     "output_type": "stream",
     "text": [
      "[15, 10]\n",
      "[11, 50]\n"
     ]
    }
   ],
   "source": [
    "'''\n",
    "Remove multiple elements from a list in Python\n",
    "Input: [12, 15, 3, 10]\n",
    "\n",
    "Output: Remove = [12, 3], New_List = [15, 10]\n",
    "\n",
    "Input: [11, 5, 17, 18, 23, 50]\n",
    "\n",
    "Output: Remove = [1:5], New_list = [11, 50]\n",
    "\n",
    "'''\n",
    "Input= [12, 15, 3, 10]\n",
    "Input.pop(0)\n",
    "Input.pop(1)\n",
    "print(Input)\n",
    "Input2= [11, 5, 17, 18, 23, 50]\n",
    "Input2[1:5]=\"\"\n",
    "print(Input2)"
   ]
  },
  {
   "cell_type": "code",
   "execution_count": 157,
   "id": "6e4992b5",
   "metadata": {},
   "outputs": [
    {
     "name": "stdout",
     "output_type": "stream",
     "text": [
      "please enter your word: sos\n",
      "True\n"
     ]
    }
   ],
   "source": [
    "'''\n",
    "python program to check whether the string is Palindrome and get the str from user\n",
    "Input : malayalam\n",
    "\n",
    "Output : True\n",
    "\n",
    "Input : geeks\n",
    "\n",
    "Output : False\n",
    "'''\n",
    "input1=input(\"please enter your word: \")\n",
    "output=input1[::-1]\n",
    "if input1==output:\n",
    "    print(True)\n",
    "else:\n",
    "    print(False)\n",
    "    \n",
    "\n",
    "\n",
    "        \n",
    "    \n",
    "    "
   ]
  },
  {
   "cell_type": "code",
   "execution_count": 168,
   "id": "201fd0ad",
   "metadata": {},
   "outputs": [
    {
     "name": "stdout",
     "output_type": "stream",
     "text": [
      "enter any sentence with a space between words: hello my friend \n",
      "friend my hello\n"
     ]
    }
   ],
   "source": [
    "'''\n",
    "\n",
    "Reverse Words in a Given String in Python\n",
    "Input : str =\" geeks quiz practice code\"\n",
    "Output : str = code practice quiz geeks\n",
    "Input : str = \"my name is laxmi\"\n",
    "output : str= laxmi is name my\n",
    "\n",
    "\n",
    "'''\n",
    "\n",
    "inpt=input(\"enter any sentence with a space between words: \")\n",
    "splitting=inpt.split()\n",
    "splitting.reverse()\n",
    "outpt=' '.join(splitting)\n",
    "print(outpt)"
   ]
  },
  {
   "cell_type": "code",
   "execution_count": 172,
   "id": "5ef8b4e3",
   "metadata": {},
   "outputs": [
    {
     "name": "stdout",
     "output_type": "stream",
     "text": [
      "please enter your string: h  i\n",
      "4\n"
     ]
    }
   ],
   "source": [
    "'''\n",
    "\n",
    "Find length of a string in python\n",
    "Input : 'abc'\n",
    "\n",
    "Output : 3\n",
    "\n",
    "Input : 'hello world !'\n",
    "\n",
    "Output : 13\n",
    "\n",
    "Input : ' h e l l o '\n",
    "\n",
    "Output :14\n",
    "'''\n",
    "inpt=input(\"please enter your string: \")\n",
    "print(len(inpt))"
   ]
  },
  {
   "cell_type": "code",
   "execution_count": 180,
   "id": "9c40d550",
   "metadata": {},
   "outputs": [
    {
     "name": "stdout",
     "output_type": "stream",
     "text": [
      "without spaces: 12\n",
      "with spaces:  15\n"
     ]
    }
   ],
   "source": [
    "'''\n",
    "Avoid Spaces in string length\n",
    "- string = \"Hello, world!  \"\n",
    "- with space 15\n",
    "- without space is 12\n",
    "\n",
    "'''\n",
    "#if you want you can make user enter an input \n",
    "string = \"Hello, world!  \"\n",
    "print(\"with spaces: \",len(string))\n",
    "print(\"without spaces:\",len(string.replace(\" \",\"\")))\n",
    "\n",
    "\n"
   ]
  },
  {
   "cell_type": "code",
   "execution_count": 230,
   "id": "af7c3af3",
   "metadata": {},
   "outputs": [
    {
     "name": "stdout",
     "output_type": "stream",
     "text": [
      "is\n"
     ]
    }
   ],
   "source": [
    "'''\n",
    "\n",
    "\n",
    "Smallest Length String in the list\n",
    "test_list = ['gfg', 'is', 'best', 'for', 'geeks']\n",
    "Minimum length string is : is\n",
    "hint you can use min in python\n",
    "\n",
    "'''\n",
    "\n",
    "test_list = ['gfg', 'is', 'best', 'for', 'geeks']\n",
    "listone=[]\n",
    "for x in range(len(test_list)):\n",
    "    length=len(test_list[x])\n",
    "    listone.append(length)\n",
    "mini=listone.index(min(listone))\n",
    "print(test_list[mini])\n",
    "\n",
    "    \n",
    "    \n"
   ]
  },
  {
   "cell_type": "code",
   "execution_count": 231,
   "id": "8e0a405d",
   "metadata": {},
   "outputs": [],
   "source": [
    "#end of the assignment \n"
   ]
  },
  {
   "cell_type": "code",
   "execution_count": null,
   "id": "f68b93ac",
   "metadata": {},
   "outputs": [],
   "source": []
  }
 ],
 "metadata": {
  "kernelspec": {
   "display_name": "Python 3 (ipykernel)",
   "language": "python",
   "name": "python3"
  },
  "language_info": {
   "codemirror_mode": {
    "name": "ipython",
    "version": 3
   },
   "file_extension": ".py",
   "mimetype": "text/x-python",
   "name": "python",
   "nbconvert_exporter": "python",
   "pygments_lexer": "ipython3",
   "version": "3.11.5"
  }
 },
 "nbformat": 4,
 "nbformat_minor": 5
}
